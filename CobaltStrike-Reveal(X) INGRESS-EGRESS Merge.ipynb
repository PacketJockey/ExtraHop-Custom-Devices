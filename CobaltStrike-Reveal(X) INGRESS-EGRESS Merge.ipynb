{
 "cells": [
  {
   "cell_type": "code",
   "execution_count": 3,
   "metadata": {},
   "outputs": [],
   "source": [
    "import requests\n",
    "import pandas as pd\n",
    "import json\n"
   ]
  },
  {
   "cell_type": "code",
   "execution_count": 4,
   "metadata": {},
   "outputs": [],
   "source": [
    "# Suppress SSL warning\n",
    "from requests.packages.urllib3.exceptions import InsecureRequestWarning\n",
    "requests.packages.urllib3.disable_warnings(InsecureRequestWarning)"
   ]
  },
  {
   "cell_type": "code",
   "execution_count": 19,
   "metadata": {},
   "outputs": [],
   "source": [
    "#Query the Flow Auditor \n",
    "req = {\n",
    "    \"filter\": {\n",
    "     \"operator\": \"or\",\n",
    "     \"rules\": [ \n",
    "                  {\n",
    "            \"field\": \"proto\",\n",
    "            \"operand\":\"TCP\",\n",
    "            \"operator\":\"=\",\n",
    "         },\n",
    "                 {\n",
    "            \"field\": \"proto\",\n",
    "            \"operand\":\"UDP\",\n",
    "            \"operator\":\"=\",\n",
    "         }\n",
    "     ]},\n",
    "       \n",
    "    \"from\": \"-1d\",\n",
    "    \"types\": [\"ns-traffic-monitor\"], #<--Our INGRESS/EGRESS Record Store!\n",
    "    \"limit\": 1000\n",
    "}\n",
    "req_body = json.dumps(req)\n",
    "#req_body"
   ]
  },
  {
   "cell_type": "code",
   "execution_count": 12,
   "metadata": {},
   "outputs": [],
   "source": [
    "#Get EGRESS/INGRESS records\n",
    "endpoint = 'https://RevealX-APPLIANCE/api/v1/records/search'\n",
    "headers = {'Accept': 'application/json', 'Authorization': 'ExtraHop apikey=YOUR-API-KEY'}\n",
    "r = requests.post(endpoint, headers=headers, data=req_body, verify=False)"
   ]
  },
  {
   "cell_type": "code",
   "execution_count": 18,
   "metadata": {},
   "outputs": [],
   "source": [
    "# see response\n",
    "#r.json()"
   ]
  },
  {
   "cell_type": "code",
   "execution_count": 14,
   "metadata": {},
   "outputs": [],
   "source": [
    "# transform response into list of tuples\n",
    "records = [(rec['_type'],\n",
    "         rec['_source']['timestamp'],\n",
    "         rec['_source']['clientAddr']['value'], \n",
    "         rec['_source']['serverAddr']['value'],\n",
    "         rec['_source']['country']) for rec in r.json()['records']]"
   ]
  },
  {
   "cell_type": "code",
   "execution_count": 15,
   "metadata": {
    "scrolled": true
   },
   "outputs": [],
   "source": [
    "# create pandas dataframe from list of tuples\n",
    "records_df = pd.DataFrame.from_records(records, columns=[\"type\", \"timestamp\", \"clientIP\", \"Server Address\",\"country\"])\n",
    "records_df.timestamp = pd.to_datetime(records_df.timestamp, unit='ms')\n",
    "#records_df"
   ]
  },
  {
   "cell_type": "code",
   "execution_count": 16,
   "metadata": {},
   "outputs": [],
   "source": [
    "#Source the location of your Shodan JSON file\n",
    "data = [json.loads(line) for line in open('/Users/johnsmith/Downloads/shodan-export.json', 'r')]\n",
    "shodan_df = pd.DataFrame(data)\n",
    "#shodan_df"
   ]
  },
  {
   "cell_type": "code",
   "execution_count": 17,
   "metadata": {},
   "outputs": [
    {
     "data": {
      "text/html": [
       "<div>\n",
       "<style scoped>\n",
       "    .dataframe tbody tr th:only-of-type {\n",
       "        vertical-align: middle;\n",
       "    }\n",
       "\n",
       "    .dataframe tbody tr th {\n",
       "        vertical-align: top;\n",
       "    }\n",
       "\n",
       "    .dataframe thead th {\n",
       "        text-align: right;\n",
       "    }\n",
       "</style>\n",
       "<table border=\"1\" class=\"dataframe\">\n",
       "  <thead>\n",
       "    <tr style=\"text-align: right;\">\n",
       "      <th></th>\n",
       "      <th>type</th>\n",
       "      <th>timestamp_x</th>\n",
       "      <th>clientIP</th>\n",
       "      <th>Server Address</th>\n",
       "      <th>country</th>\n",
       "      <th>_shodan</th>\n",
       "      <th>asn</th>\n",
       "      <th>data</th>\n",
       "      <th>domains</th>\n",
       "      <th>hash</th>\n",
       "      <th>...</th>\n",
       "      <th>opts</th>\n",
       "      <th>org</th>\n",
       "      <th>os</th>\n",
       "      <th>port</th>\n",
       "      <th>product</th>\n",
       "      <th>tags</th>\n",
       "      <th>timestamp_y</th>\n",
       "      <th>transport</th>\n",
       "      <th>upnp</th>\n",
       "      <th>version</th>\n",
       "    </tr>\n",
       "  </thead>\n",
       "  <tbody>\n",
       "    <tr>\n",
       "      <th>0</th>\n",
       "      <td>ns-traffic-monitor</td>\n",
       "      <td>2021-01-07 23:34:22.146604004</td>\n",
       "      <td>172.16.178.85</td>\n",
       "      <td>124.161.241.225</td>\n",
       "      <td>China</td>\n",
       "      <td>{u'crawler': u'c4f6dbc45caa04f64112a93cf20c797...</td>\n",
       "      <td>AS4837</td>\n",
       "      <td>HTTP/1.1 200 OK \\r\\nContent-Type: text/html\\r\\...</td>\n",
       "      <td>[]</td>\n",
       "      <td>-294857937</td>\n",
       "      <td>...</td>\n",
       "      <td>{}</td>\n",
       "      <td>China Unicom Liaoning</td>\n",
       "      <td>None</td>\n",
       "      <td>10000</td>\n",
       "      <td>Cobalt Strike team server</td>\n",
       "      <td>NaN</td>\n",
       "      <td>2021-01-05T05:36:27.396572</td>\n",
       "      <td>tcp</td>\n",
       "      <td>NaN</td>\n",
       "      <td>NaN</td>\n",
       "    </tr>\n",
       "    <tr>\n",
       "      <th>1</th>\n",
       "      <td>ns-traffic-monitor</td>\n",
       "      <td>2021-01-07 23:33:40.927437988</td>\n",
       "      <td>172.16.178.85</td>\n",
       "      <td>124.161.241.225</td>\n",
       "      <td>China</td>\n",
       "      <td>{u'crawler': u'c4f6dbc45caa04f64112a93cf20c797...</td>\n",
       "      <td>AS4837</td>\n",
       "      <td>HTTP/1.1 200 OK \\r\\nContent-Type: text/html\\r\\...</td>\n",
       "      <td>[]</td>\n",
       "      <td>-294857937</td>\n",
       "      <td>...</td>\n",
       "      <td>{}</td>\n",
       "      <td>China Unicom Liaoning</td>\n",
       "      <td>None</td>\n",
       "      <td>10000</td>\n",
       "      <td>Cobalt Strike team server</td>\n",
       "      <td>NaN</td>\n",
       "      <td>2021-01-05T05:36:27.396572</td>\n",
       "      <td>tcp</td>\n",
       "      <td>NaN</td>\n",
       "      <td>NaN</td>\n",
       "    </tr>\n",
       "    <tr>\n",
       "      <th>2</th>\n",
       "      <td>ns-traffic-monitor</td>\n",
       "      <td>2021-01-07 21:25:39.452676025</td>\n",
       "      <td>172.16.178.85</td>\n",
       "      <td>123.240.66.68</td>\n",
       "      <td>Taiwan</td>\n",
       "      <td>{u'crawler': u'264b5a9d15a64f96a4768e9d8081b9d...</td>\n",
       "      <td>AS131596</td>\n",
       "      <td>HTTP/1.1 200 OK \\r\\nContent-Type: text/html\\r\\...</td>\n",
       "      <td>[tbcnet.net.tw]</td>\n",
       "      <td>-1564662150</td>\n",
       "      <td>...</td>\n",
       "      <td>{}</td>\n",
       "      <td>TBC</td>\n",
       "      <td>None</td>\n",
       "      <td>10000</td>\n",
       "      <td>Cobalt Strike team server</td>\n",
       "      <td>NaN</td>\n",
       "      <td>2021-01-05T06:33:35.951141</td>\n",
       "      <td>tcp</td>\n",
       "      <td>NaN</td>\n",
       "      <td>NaN</td>\n",
       "    </tr>\n",
       "  </tbody>\n",
       "</table>\n",
       "<p>3 rows × 25 columns</p>\n",
       "</div>"
      ],
      "text/plain": [
       "                 type                   timestamp_x       clientIP  \\\n",
       "0  ns-traffic-monitor 2021-01-07 23:34:22.146604004  172.16.178.85   \n",
       "1  ns-traffic-monitor 2021-01-07 23:33:40.927437988  172.16.178.85   \n",
       "2  ns-traffic-monitor 2021-01-07 21:25:39.452676025  172.16.178.85   \n",
       "\n",
       "    Server Address country                                            _shodan  \\\n",
       "0  124.161.241.225   China  {u'crawler': u'c4f6dbc45caa04f64112a93cf20c797...   \n",
       "1  124.161.241.225   China  {u'crawler': u'c4f6dbc45caa04f64112a93cf20c797...   \n",
       "2    123.240.66.68  Taiwan  {u'crawler': u'264b5a9d15a64f96a4768e9d8081b9d...   \n",
       "\n",
       "        asn                                               data  \\\n",
       "0    AS4837  HTTP/1.1 200 OK \\r\\nContent-Type: text/html\\r\\...   \n",
       "1    AS4837  HTTP/1.1 200 OK \\r\\nContent-Type: text/html\\r\\...   \n",
       "2  AS131596  HTTP/1.1 200 OK \\r\\nContent-Type: text/html\\r\\...   \n",
       "\n",
       "           domains        hash   ...   opts                    org    os  \\\n",
       "0               []  -294857937   ...     {}  China Unicom Liaoning  None   \n",
       "1               []  -294857937   ...     {}  China Unicom Liaoning  None   \n",
       "2  [tbcnet.net.tw] -1564662150   ...     {}                    TBC  None   \n",
       "\n",
       "    port                    product tags                 timestamp_y  \\\n",
       "0  10000  Cobalt Strike team server  NaN  2021-01-05T05:36:27.396572   \n",
       "1  10000  Cobalt Strike team server  NaN  2021-01-05T05:36:27.396572   \n",
       "2  10000  Cobalt Strike team server  NaN  2021-01-05T06:33:35.951141   \n",
       "\n",
       "  transport  upnp version  \n",
       "0       tcp   NaN     NaN  \n",
       "1       tcp   NaN     NaN  \n",
       "2       tcp   NaN     NaN  \n",
       "\n",
       "[3 rows x 25 columns]"
      ]
     },
     "execution_count": 17,
     "metadata": {},
     "output_type": "execute_result"
    }
   ],
   "source": [
    "#Compare the two dataframes to find sessions/transactions with known bad hosts\n",
    "joined_ips=pd.merge(records_df,shodan_df, right_on=\"ip_str\", left_on='Server Address')\n",
    "joined_ips\n"
   ]
  },
  {
   "cell_type": "code",
   "execution_count": null,
   "metadata": {},
   "outputs": [],
   "source": []
  }
 ],
 "metadata": {
  "kernelspec": {
   "display_name": "Python 2",
   "language": "python",
   "name": "python2"
  },
  "language_info": {
   "codemirror_mode": {
    "name": "ipython",
    "version": 2
   },
   "file_extension": ".py",
   "mimetype": "text/x-python",
   "name": "python",
   "nbconvert_exporter": "python",
   "pygments_lexer": "ipython2",
   "version": "2.7.15"
  }
 },
 "nbformat": 4,
 "nbformat_minor": 2
}
