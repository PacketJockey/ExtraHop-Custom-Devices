{
 "cells": [
  {
   "cell_type": "code",
   "execution_count": 1,
   "metadata": {},
   "outputs": [],
   "source": [
    "import requests\n",
    "import json\n"
   ]
  },
  {
   "cell_type": "code",
   "execution_count": 2,
   "metadata": {},
   "outputs": [],
   "source": [
    "# Suppress SSL warning\n",
    "from requests.packages.urllib3.exceptions import InsecureRequestWarning\n",
    "requests.packages.urllib3.disable_warnings(InsecureRequestWarning)"
   ]
  },
  {
   "cell_type": "code",
   "execution_count": 3,
   "metadata": {},
   "outputs": [
    {
     "data": {
      "text/plain": [
       "6"
      ]
     },
     "execution_count": 3,
     "metadata": {},
     "output_type": "execute_result"
    }
   ],
   "source": [
    "#Set EH Header information and create the SANS top 20 Blacklist\n",
    "\n",
    "headers = {'Content-Type': 'application/json',\n",
    "           'Accept': 'application/json',\n",
    "           'Authorization': 'ExtraHop apikey=a2898307f5b644df9dc366450d6fc69e'}\n",
    "req_body = r\"\"\"{\"name\":\"SANS_BLACKLIST\",\"description\":\"SANS Top 20 Attacking CIDR Blocks\"}\"\"\"#--> Insert Blacklist Name Here\n",
    "endpoint = 'https://172.16.243.145/api/v1/customdevices'\n",
    "\n",
    "r = requests.post(endpoint, headers=headers, data=req_body, verify=False)\n",
    "devlist = requests.get(endpoint,headers=headers,verify=False)\n",
    "input_dict = devlist.json()\n",
    "output_dict = [x for x in input_dict if x['name'] == 'SANS_BLACKLIST'] # <--Insert Blacklist Name Here\n",
    "id = output_dict[0]['id']\n",
    "id"
   ]
  },
  {
   "cell_type": "code",
   "execution_count": 4,
   "metadata": {},
   "outputs": [
    {
     "name": "stdout",
     "output_type": "stream",
     "text": [
      "Deleting 141.212.121.0/24\n",
      "Deleting 198.8.88.0/24\n",
      "Deleting 185.10.68.0/24\n",
      "Deleting 77.72.82.0/24\n",
      "Deleting 104.236.92.0/24\n",
      "Deleting 141.212.122.0/24\n",
      "Deleting 80.82.77.0/24\n",
      "Deleting 181.214.87.0/24\n",
      "Deleting 191.101.167.0/24\n",
      "Deleting 107.170.193.0/24\n",
      "Deleting 196.52.43.0/24\n",
      "Deleting 5.188.10.0/24\n",
      "Deleting 5.188.11.0/24\n",
      "Deleting 125.212.217.0/24\n",
      "Deleting 5.188.9.0/24\n",
      "Deleting 45.55.14.0/24\n",
      "Deleting 107.170.230.0/24\n",
      "Deleting 104.236.191.0/24\n",
      "Deleting 107.170.238.0/24\n",
      "Deleting 77.72.85.0/24\n",
      "Deleting 172.16.243.1\n"
     ]
    }
   ],
   "source": [
    "# If you are updating the blacklist, old IP Addresses will be removed for the new ones.  If it is the first time\n",
    "# then this section will be skipped\n",
    "strid = str(id)\n",
    "#conn.request('GET', '/api/v1/customdevices/'+strid+'/criteria', headers=headers)\n",
    "children = endpoint+'/'+strid+'/criteria'\n",
    "childlist = requests.get(children, headers=headers, verify=False)\n",
    "input_dict = childlist.json()\n",
    "if input_dict:\n",
    "    \n",
    "    childID=input_dict[0]['id']\n",
    "    strChild=str(childID)    \n",
    "    \n",
    "for line in input_dict:\n",
    "    strChild = str(line['id'])\n",
    "    rmChildren = endpoint+'/'+strid+'/criteria/'+strChild\n",
    "    requests.delete(rmChildren,headers=headers,verify=False)    \n",
    "    print 'Deleting ' + line['ipaddr']\n",
    "\n"
   ]
  },
  {
   "cell_type": "code",
   "execution_count": 5,
   "metadata": {},
   "outputs": [
    {
     "name": "stdout",
     "output_type": "stream",
     "text": [
      "Adding 80.82.70.0/24\n",
      "Adding 196.52.43.0/24\n",
      "Adding 141.212.122.0/24\n",
      "Adding 60.191.38.0/24\n",
      "Adding 191.101.167.0/24\n",
      "Adding 107.170.238.0/24\n",
      "Adding 94.177.186.0/24\n",
      "Adding 77.72.82.0/24\n",
      "Adding 80.82.77.0/24\n",
      "Adding 5.188.10.0/24\n",
      "Adding 107.170.237.0/24\n",
      "Adding 5.188.86.0/24\n",
      "Adding 89.38.99.0/24\n",
      "Adding 5.188.9.0/24\n",
      "Adding 125.212.217.0/24\n",
      "Adding 107.170.230.0/24\n",
      "Adding 107.170.193.0/24\n",
      "Adding 45.55.0.0/24\n",
      "Adding 181.214.87.0/24\n",
      "Adding 5.188.11.0/24\n"
     ]
    }
   ],
   "source": [
    "\n",
    "import urllib2\n",
    "strid = str(id)\n",
    "data = urllib2.urlopen(\"https://isc.sans.edu/block.txt\").read()\n",
    "data = data.split(\"\\n\") # then split it into lines\n",
    "\n",
    "for line in data: \n",
    "        if line and line[0].isdigit():\n",
    "            ipBlock = line.split(\"\\t\")[0] + \"/24\"\n",
    "            #headers = {'Content-Type': 'application/json',\n",
    "            #'Accept': 'application/json',\n",
    "            #'Authorization': 'ExtraHop apikey=J3F44pa9W_UL90hikUERfEnoloGz8ckqP1aGUXs464Q'}\n",
    "            body = {\"ipaddr\":ipBlock} \n",
    "            criteria = endpoint+'/'+strid+'/criteria'\n",
    "            requests.post(criteria, headers=headers, json=body, verify=False)\n",
    "            print \"Adding \" + ipBlock"
   ]
  },
  {
   "cell_type": "code",
   "execution_count": null,
   "metadata": {},
   "outputs": [],
   "source": []
  }
 ],
 "metadata": {
  "kernelspec": {
   "display_name": "Python 2",
   "language": "python",
   "name": "python2"
  },
  "language_info": {
   "codemirror_mode": {
    "name": "ipython",
    "version": 2
   },
   "file_extension": ".py",
   "mimetype": "text/x-python",
   "name": "python",
   "nbconvert_exporter": "python",
   "pygments_lexer": "ipython2",
   "version": "2.7.14"
  }
 },
 "nbformat": 4,
 "nbformat_minor": 2
}
