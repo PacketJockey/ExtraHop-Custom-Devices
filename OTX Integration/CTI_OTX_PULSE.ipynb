{
 "cells": [
  {
   "cell_type": "code",
   "execution_count": 2,
   "metadata": {},
   "outputs": [],
   "source": [
    "import requests\n",
    "import json\n"
   ]
  },
  {
   "cell_type": "code",
   "execution_count": 3,
   "metadata": {},
   "outputs": [],
   "source": [
    "# Suppress SSL warning\n",
    "from requests.packages.urllib3.exceptions import InsecureRequestWarning\n",
    "requests.packages.urllib3.disable_warnings(InsecureRequestWarning)"
   ]
  },
  {
   "cell_type": "code",
   "execution_count": 8,
   "metadata": {
    "scrolled": false
   },
   "outputs": [],
   "source": [
    "#AlienVault API send OTD PULSE Indicators to External Data\n",
    "\n",
    "headers = {'Accept': 'application/json',\n",
    "           'X-OTX-API-KEY': '713a2bc760dfcf0919104496ee47d0839a3be77ff9c5e6c5c7f6d762d7c53740'\n",
    "           \n",
    "          }\n",
    "################# Active Bedep DGA(s) for 20200430 ############################\n",
    "#endpoint = 'https://otx.alienvault.com/api/v1/pulses/5eab656cf2008f007c52a387/'\n",
    "################# Basic COVID19 Domain Jackassery #############################\n",
    "#endpoint = 'https://otx.alienvault.com/api/v1/pulses/5eaca43f181063497eb90182'\n",
    "################# Ryuk Covid19 Domain Ransomware ##############################\n",
    "#endpoint = 'https://otx.alienvault.com/api/v1/pulses/5e8756377b956df7647cf034'\n",
    "################# Utility Company ICS Pulse ###################################\n",
    "#endpoint = 'https://otx.alienvault.com/api/v1/pulses/5edf9678c760e3c7ca6fdf77'\n",
    "################# MIOC ###############################\n",
    "#endpoint = 'https://otx.alienvault.com/api/v1/pulses/5e615712a6257d4c91434301'\n",
    "################# RYUK Misc Observables ###############################\n",
    "endpoint ='https://otx.alienvault.com/api/v1/pulses/5f7f3ca8ac632f26f0f69b6a'\n",
    "\n",
    "r = requests.get(endpoint, headers=headers, verify=False)\n",
    "\n",
    "output_dict = [x for x in r.json()['indicators'] if x['type'] == 'URL' \n",
    "                                                 or x['type'] == 'domain'\n",
    "                                                 or x['type'] == 'hostname'\n",
    "                                                 or x['type'] == 'SSLCertFingerprint'\n",
    "                                                 or x['type'] == 'IPv4' ]\n",
    "output_dict\n",
    "\n",
    "################### Utilities ######################\n",
    "#r.json()['name']                                  # \n",
    "#r.json()                                          # \n",
    "#for indicator in r.json()['indicators']:          # \n",
    "#    print (indicator['indicator'])                # \n",
    "####################################################"
   ]
  },
  {
   "cell_type": "code",
   "execution_count": 7,
   "metadata": {},
   "outputs": [
    {
     "name": "stdout",
     "output_type": "stream",
     "text": [
      "{\"body\": {\"field\": \"nomadfunclub.com\", \"Description\": \"Ryuk Ransomware Incident Analysis\"}, \"type\": \"OTX-Intel\"}\n",
      "{\"body\": {\"field\": \"martahzz.com\", \"Description\": \"Ryuk Ransomware Incident Analysis\"}, \"type\": \"OTX-Intel\"}\n",
      "{\"body\": {\"field\": \"ec:4c:07:b8:3b:6a:a0:bf:60:36:b7:f4:92:9e:83:81:0f:96:46:b0\", \"Description\": \"Ryuk Ransomware Incident Analysis\"}, \"type\": \"OTX-Intel\"}\n",
      "{\"body\": {\"field\": \"e2:13:2c:a4:29:ae:f3:fa:35:1f:e1:5b:2c:25:76:57:37:5b:dc:35\", \"Description\": \"Ryuk Ransomware Incident Analysis\"}, \"type\": \"OTX-Intel\"}\n",
      "{\"body\": {\"field\": \"ee:92:91:6b:7e:31:85:22:65:eb:16:11:c4:8f:0a:75:c9:05:1d:4b\", \"Description\": \"Ryuk Ransomware Incident Analysis\"}, \"type\": \"OTX-Intel\"}\n",
      "{\"body\": {\"field\": \"107.173.58.183\", \"Description\": \"Ryuk Ransomware Incident Analysis\"}, \"type\": \"OTX-Intel\"}\n",
      "{\"body\": {\"field\": \"5.182.210.145\", \"Description\": \"Ryuk Ransomware Incident Analysis\"}, \"type\": \"OTX-Intel\"}\n",
      "{\"body\": {\"field\": \"185.51.134.195\", \"Description\": \"Ryuk Ransomware Incident Analysis\"}, \"type\": \"OTX-Intel\"}\n",
      "{\"body\": {\"field\": \"206.221.176.24\", \"Description\": \"Ryuk Ransomware Incident Analysis\"}, \"type\": \"OTX-Intel\"}\n",
      "{\"body\": {\"field\": \"45.141.84.120\", \"Description\": \"Ryuk Ransomware Incident Analysis\"}, \"type\": \"OTX-Intel\"}\n",
      "{\"body\": {\"field\": \"88.119.171.75\", \"Description\": \"Ryuk Ransomware Incident Analysis\"}, \"type\": \"OTX-Intel\"}\n",
      "{\"body\": {\"field\": \"107.150.59.162\", \"Description\": \"Ryuk Ransomware Incident Analysis\"}, \"type\": \"OTX-Intel\"}\n",
      "{\"body\": {\"field\": \"allrulk.com\", \"Description\": \"Ryuk Ransomware Incident Analysis\"}, \"type\": \"OTX-Intel\"}\n",
      "{\"body\": {\"field\": \"http://grumhit.com/rest/t\", \"Description\": \"Ryuk Ransomware Incident Analysis\"}, \"type\": \"OTX-Intel\"}\n",
      "{\"body\": {\"field\": \"best-nas.com\", \"Description\": \"Ryuk Ransomware Incident Analysis\"}, \"type\": \"OTX-Intel\"}\n",
      "{\"body\": {\"field\": \"cstr3.com\", \"Description\": \"Ryuk Ransomware Incident Analysis\"}, \"type\": \"OTX-Intel\"}\n",
      "{\"body\": {\"field\": \"quwasd.com\", \"Description\": \"Ryuk Ransomware Incident Analysis\"}, \"type\": \"OTX-Intel\"}\n",
      "{\"body\": {\"field\": \"havemosts.com\", \"Description\": \"Ryuk Ransomware Incident Analysis\"}, \"type\": \"OTX-Intel\"}\n",
      "{\"body\": {\"field\": \"5.2.64.174\", \"Description\": \"Ryuk Ransomware Incident Analysis\"}, \"type\": \"OTX-Intel\"}\n",
      "{\"body\": {\"field\": \"88.119.171.94\", \"Description\": \"Ryuk Ransomware Incident Analysis\"}, \"type\": \"OTX-Intel\"}\n"
     ]
    }
   ],
   "source": [
    "data = output_dict \n",
    "descr = r.json()['name']\n",
    "for indicator in data:\n",
    "    req = {\n",
    "    \"body\": {\"field\": indicator['indicator'] ,\"Description\": descr},    \n",
    "    \"type\": \"OTX-Intel\"    \n",
    "    }\n",
    "    req_body = json.dumps(req)\n",
    "    print(req_body)\n",
    "    headers = {'Content-Type': 'application/json',\n",
    "           'Accept': 'application/json',\n",
    "           #'Authorization': 'ExtraHop apikey=yoFGLks2F9heUg2lERhDktR7AsiR9o3BKdB7U-Gnh9Y'\n",
    "           'Authorization': 'ExtraHop apikey=gYQoM_qCp6TbARo67j2PnlCe1H2BPWLs1dAp8iyAnY8'\n",
    "           #'Authorization': 'ExtraHop apikey=aqWVeOKpZKesQnGi29qhBAVrPAJb1ZyQpH8o3LX28CA' #Fiserv\n",
    "            \n",
    "              }\n",
    "    #endpoint = 'https://172.16.178.131/api/v1/triggers/externaldata'\n",
    "    #endpoint = 'https://john.a.rx.tours/api/v1/triggers/externaldata'\n",
    "    endpoint = 'https://sensor.i.rx.tours/api/v1/triggers/externaldata'\n",
    "    r = requests.post(endpoint, headers=headers, data=req_body ,verify=False)\n",
    "    #r"
   ]
  },
  {
   "cell_type": "code",
   "execution_count": null,
   "metadata": {},
   "outputs": [],
   "source": [
    "######################################\n",
    "# Practice area to dump/observe JSON #\n",
    "######################################"
   ]
  },
  {
   "cell_type": "code",
   "execution_count": null,
   "metadata": {},
   "outputs": [],
   "source": [
    "headers = {'Accept': 'application/json',\n",
    "           'X-OTX-API-KEY': '713a2bc760dfcf0919104496ee47d0839a3be77ff9c5e6c5c7f6d762d7c53740' \n",
    "          }\n",
    "#endpoint = 'https://otx.alienvault.com/api/v1/pulses/5eab656cf2008f007c52a387/'\n",
    "endpoint = 'https://otx.alienvault.com/api/v1/pulses/5eaca43f181063497eb90182'\n",
    "\n",
    "r = requests.get(endpoint, headers=headers, verify=False)\n",
    "r.json()['description']\n",
    "#data = r.json()[\"indicators\"]"
   ]
  },
  {
   "cell_type": "code",
   "execution_count": null,
   "metadata": {},
   "outputs": [],
   "source": []
  }
 ],
 "metadata": {
  "kernelspec": {
   "display_name": "Python 2",
   "language": "python",
   "name": "python2"
  },
  "language_info": {
   "codemirror_mode": {
    "name": "ipython",
    "version": 2
   },
   "file_extension": ".py",
   "mimetype": "text/x-python",
   "name": "python",
   "nbconvert_exporter": "python",
   "pygments_lexer": "ipython2",
   "version": "2.7.15"
  }
 },
 "nbformat": 4,
 "nbformat_minor": 2
}
