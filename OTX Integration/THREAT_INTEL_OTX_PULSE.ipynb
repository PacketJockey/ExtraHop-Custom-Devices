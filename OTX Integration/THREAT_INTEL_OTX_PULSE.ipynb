{
 "cells": [
  {
   "cell_type": "code",
   "execution_count": 2,
   "metadata": {},
   "outputs": [],
   "source": [
    "import requests\n",
    "import json\n"
   ]
  },
  {
   "cell_type": "code",
   "execution_count": 3,
   "metadata": {},
   "outputs": [],
   "source": [
    "# Suppress SSL warning\n",
    "from requests.packages.urllib3.exceptions import InsecureRequestWarning\n",
    "requests.packages.urllib3.disable_warnings(InsecureRequestWarning)"
   ]
  },
  {
   "cell_type": "code",
   "execution_count": 20,
   "metadata": {
    "scrolled": false
   },
   "outputs": [],
   "source": [
    "#AlienVault API send OTD PULSE Indicators to External Data\n",
    "\n",
    "headers = {'Accept': 'application/json',\n",
    "           'X-OTX-API-KEY': 'YOUR API KEY'\n",
    "           \n",
    "          }\n",
    "################# Active Bedep DGA(s) for 20200430 ############################\n",
    "#endpoint = 'https://otx.alienvault.com/api/v1/pulses/5eab656cf2008f007c52a387/'\n",
    "################# Basic COVID19 Domain Jackassery #############################\n",
    "#endpoint = 'https://otx.alienvault.com/api/v1/pulses/5eaca43f181063497eb90182'\n",
    "################# Ryuk Covid19 Domain Ransomware ##############################\n",
    "#endpoint = 'https://otx.alienvault.com/api/v1/pulses/5e8756377b956df7647cf034'\n",
    "################# Utility Company ICS Pulse ###################################\n",
    "#endpoint = 'https://otx.alienvault.com/api/v1/pulses/5edf9678c760e3c7ca6fdf77'\n",
    "################# MIOC ###############################\n",
    "#endpoint = 'https://otx.alienvault.com/api/v1/pulses/5e615712a6257d4c91434301'\n",
    "################# RYUK Misc Observables ###############################\n",
    "endpoint ='https://otx.alienvault.com/api/v1/pulses/5f7f3ca8ac632f26f0f69b6a'\n",
    "\n",
    "r = requests.get(endpoint, headers=headers, verify=False)\n",
    "\n",
    "output_dict = [x for x in r.json()['indicators'] if x['type'] == 'URL' \n",
    "                                                 or x['type'] == 'domain'\n",
    "                                                 or x['type'] == 'hostname'\n",
    "                                                 or x['type'] == 'SSLCertFingerprint'\n",
    "                                                 or x['type'] == 'IPv4' ]\n",
    "#output_dict\n",
    "\n",
    "################### Utilities ######################\n",
    "#r.json()['name']                                  # \n",
    "#r.json()                                          # \n",
    "#for indicator in r.json()['indicators']:          # \n",
    "#    print (indicator['indicator'])                # \n",
    "####################################################"
   ]
  },
  {
   "cell_type": "code",
   "execution_count": null,
   "metadata": {},
   "outputs": [],
   "source": [
    "data = output_dict \n",
    "descr = r.json()['name']\n",
    "for indicator in data:\n",
    "    req = {\n",
    "    \"body\": {\"field\": indicator['indicator'] ,\"Description\": descr},    \n",
    "    \"type\": \"OTX-Intel\"    \n",
    "    }\n",
    "    #req_body = json.dumps(req)\n",
    "    print(req_body)\n",
    "    headers = {'Content-Type': 'application/json',\n",
    "           'Accept': 'application/json',\n",
    "           'Authorization': 'ExtraHop apikey=YOUR API KEY'\n",
    "               }\n",
    "    endpoint = 'https://sensor.i.rx.tours/api/v1/triggers/externaldata'\n",
    "    r = requests.post(endpoint, headers=headers, data=req_body ,verify=False)\n",
    "    #r"
   ]
  },
  {
   "cell_type": "code",
   "execution_count": null,
   "metadata": {},
   "outputs": [],
   "source": []
  }
 ],
 "metadata": {
  "kernelspec": {
   "display_name": "Python 2",
   "language": "python",
   "name": "python2"
  },
  "language_info": {
   "codemirror_mode": {
    "name": "ipython",
    "version": 2
   },
   "file_extension": ".py",
   "mimetype": "text/x-python",
   "name": "python",
   "nbconvert_exporter": "python",
   "pygments_lexer": "ipython2",
   "version": "2.7.15"
  }
 },
 "nbformat": 4,
 "nbformat_minor": 2
}
